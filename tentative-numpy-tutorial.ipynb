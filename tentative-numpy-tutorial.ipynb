{
 "cells": [
  {
   "cell_type": "markdown",
   "metadata": {},
   "source": [
    "# Tentative NumPy Tutorial"
   ]
  },
  {
   "cell_type": "markdown",
   "metadata": {},
   "source": [
    "## Intro"
   ]
  },
  {
   "cell_type": "markdown",
   "metadata": {},
   "source": [
    "This is my attempt to try out and walk through the entire [Tentative NumPy Tutorial](http://wiki.scipy.org/Tentative_NumPy_Tutorial#head-d3f8e5fe9b903f3c3b2a5c0dfceb60d71602cf93), kindly created and shared by [SciPy.org](http://scipy.org).  (All credits go to Scipy.org)\n",
    "\n",
    "Note: in the case the Tutorial link is broken, I have found this equivalent [PDF Version](http://www.cs.man.ac.uk/~barry/mydocs/MyCOMP28512/MS15_Notes/PyRefs/Tentative_NumPy_Tutorial.pdf) kindly prepared by University of Manchester."
   ]
  },
  {
   "cell_type": "markdown",
   "metadata": {},
   "source": [
    "## Some personal goals"
   ]
  },
  {
   "cell_type": "markdown",
   "metadata": {},
   "source": [
    "I wish that by end of the exercise I will become a more confident user in the following tools:\n",
    "\n",
    "- Git and GitHub\n",
    "- The Python NumPy Package (i.e. the `numpy` module)\n",
    "- IPython Notebook (and the remaining Anaconda packages / tools)\n",
    "- GitBash"
   ]
  },
  {
   "cell_type": "markdown",
   "metadata": {},
   "source": [
    "## Contents"
   ]
  },
  {
   "cell_type": "markdown",
   "metadata": {},
   "source": [
    "- [Lesson 1: Prerequisites](./lesson-1-prerequisities/lesson-1-prerequisites.ipynb)\n",
    "- [Lesson 2: The Basics](./lesson-2-the-basics/lesson-2-the-basics.ipynb)\n",
    "- [Lesson 3: Shape Manipulation](./lesson-3-shape-manipulation/lesson-3-shape-manipulation.ipynb)\n",
    "- [Lesson 4 - Copies and Views](./lesson-4-copies-and-views/lesson-4-copies-and-views.ipynb)\n",
    "- [Lesson 5 - Less basics](./lesson-5-less-basics/lesson-5-less-basics.ipynb)\n",
    "- [Lesson 6 - Fancy indexing and Index Tricks](./lesson-6-fancy-indexing-and-index-tricks/lesson-6-fancy-indexing-and-index-tricksipynb)\n",
    "- [Lesson 7 - Linear Algebra](./lesson-7-linear-algebra/lesson-7-linear-algebra.ipynb)\n",
    "- [Lesson 8 - Tricks and Tips](./lesson-8-tricks-and-tips/lesson-8-tricks-and-tips.ipynb)\n",
    "- [Lesson 9 - References](./lesson-9-references/lesson-9-references.ipynb)"
   ]
  },
  {
   "cell_type": "markdown",
   "metadata": {},
   "source": [
    "## Contacts"
   ]
  },
  {
   "cell_type": "markdown",
   "metadata": {},
   "source": [
    "Contact the main author [Johnny Chan](https://github.com/Atlas7) at [johnnychan0302@gmail.com](mailto:johnnychan0302@gmail.com)."
   ]
  }
 ],
 "metadata": {
  "kernelspec": {
   "display_name": "Python 2",
   "language": "python",
   "name": "python2"
  },
  "language_info": {
   "codemirror_mode": {
    "name": "ipython",
    "version": 2
   },
   "file_extension": ".py",
   "mimetype": "text/x-python",
   "name": "python",
   "nbconvert_exporter": "python",
   "pygments_lexer": "ipython2",
   "version": "2.7.9"
  }
 },
 "nbformat": 4,
 "nbformat_minor": 0
}
