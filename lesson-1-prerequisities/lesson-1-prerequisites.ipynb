{
 "cells": [
  {
   "cell_type": "markdown",
   "metadata": {},
   "source": [
    "# Lesson 1 - Prerequisites"
   ]
  },
  {
   "cell_type": "markdown",
   "metadata": {},
   "source": [
    "Before reading this tutorial you should know a bit of Python. If you would like to refresh your memory, take a look at the Python tutorial.\n",
    "\n",
    "If you wish to work the examples in this tutorial, you must also have some\n",
    "software installed on your computer. Minimally:\n",
    "\n",
    "- Python\n",
    "- NumPy\n",
    "\n",
    "These you may find useful:\n",
    "\n",
    "- ipython is an enhanced interactive Python shell which is very convenient for exploring NumPy's features\n",
    "- matplotlib will enable you to plot graphics\n",
    "- SciPy provides a lot of scientific routines that work on top of NumPy "
   ]
  }
 ],
 "metadata": {
  "kernelspec": {
   "display_name": "Python 2",
   "language": "python",
   "name": "python2"
  },
  "language_info": {
   "codemirror_mode": {
    "name": "ipython",
    "version": 2
   },
   "file_extension": ".py",
   "mimetype": "text/x-python",
   "name": "python",
   "nbconvert_exporter": "python",
   "pygments_lexer": "ipython2",
   "version": "2.7.9"
  }
 },
 "nbformat": 4,
 "nbformat_minor": 0
}
