{
 "cells": [
  {
   "cell_type": "markdown",
   "metadata": {},
   "source": [
    "# References"
   ]
  },
  {
   "cell_type": "markdown",
   "metadata": {},
   "source": [
    "- The Python tutorial.\n",
    "- The Numpy Example List.\n",
    "- The nonexistent NumPy Tutorial at scipy.org, where we can find the old Numeric documentation.\n",
    "- The Guide to NumPy book. \n",
    "- The SciPy Tutorial and a SciPy course online\n",
    "- NumPy for Matlab Users.\n",
    "- A matlab, R, IDL, NumPy/SciPy dictionary. "
   ]
  }
 ],
 "metadata": {
  "kernelspec": {
   "display_name": "Python 2",
   "language": "python",
   "name": "python2"
  },
  "language_info": {
   "codemirror_mode": {
    "name": "ipython",
    "version": 2
   },
   "file_extension": ".py",
   "mimetype": "text/x-python",
   "name": "python",
   "nbconvert_exporter": "python",
   "pygments_lexer": "ipython2",
   "version": "2.7.9"
  }
 },
 "nbformat": 4,
 "nbformat_minor": 0
}
